{
 "cells": [
  {
   "cell_type": "code",
   "execution_count": 1,
   "metadata": {},
   "outputs": [],
   "source": [
    "from selenium import webdriver\n",
    "from selenium.webdriver.common.by import By\n",
    "from selenium.webdriver.support.ui import WebDriverWait\n",
    "from selenium.webdriver.support import expected_conditions as EC\n",
    "from selenium.webdriver.common.keys import Keys\n",
    "import time\n",
    "import re\n"
   ]
  },
  {
   "cell_type": "code",
   "execution_count": 8,
   "metadata": {},
   "outputs": [
    {
     "name": "stdout",
     "output_type": "stream",
     "text": [
      "Number of feed elements found: 9\n",
      "['Bar en Bistro Raposa', 'Tokyo Sushi', \"'t Stoveke\", \"'t Boerderijtje\", \"'t Fornuizeke\", 'Smul Lounge', 'La Brasseria De Middenstand', 'Lam Thai', 'Carnivor']\n"
     ]
    }
   ],
   "source": [
    "url = \"https://www.google.com/maps\"\n",
    "\n",
    "driver = webdriver.Edge()\n",
    "\n",
    "driver.get(url)\n",
    "\n",
    "accept_button = WebDriverWait(driver, 10).until(\n",
    "    EC.element_to_be_clickable((By.CSS_SELECTOR, \"#yDmH0d > c-wiz > div > div > div > div.NIoIEf > div.G4njw > div.AIC7ge > div.CxJub > div.VtwTSb > form:nth-child(2) > div > div > button\"))\n",
    ")\n",
    "\n",
    "accept_button.click()\n",
    "\n",
    "search = WebDriverWait(driver, 10).until(\n",
    "    EC.element_to_be_clickable((By.CSS_SELECTOR, \"#searchboxinput\"))\n",
    ")\n",
    "search.send_keys(\"Restaurants\")\n",
    "search.send_keys(Keys.RETURN)\n",
    "time.sleep(10)\n",
    "\n",
    "results =[]\n",
    "#elems = driver.find_elements(By.XPATH, '//*[@id=\"QA0Szd\"]/div/div/div[1]/div[2]/div/div[1]/div/div/div[1]/div[1]')\n",
    "\n",
    "for i in range(0):\n",
    "    driver.find_element(By.XPATH, '//*[@id=\"QA0Szd\"]/div/div/div[1]/div[2]/div/div[1]/div/div/div[1]/div[1]').send_keys(Keys.PAGE_DOWN)\n",
    "    time.sleep(1)\n",
    "elems = WebDriverWait(driver, 10).until(\n",
    "    EC.presence_of_all_elements_located((By.CSS_SELECTOR, \".Nv2PK.THOPZb.CpccDe\"))\n",
    ")\n",
    "print(\"Number of feed elements found:\", len(elems))\n",
    "for elem in elems:\n",
    "    title = elem.find_element(By.CSS_SELECTOR, \"div.fontHeadlineSmall\")\n",
    "    results.append(title.text)\n",
    "\n",
    "links = driver.find_elements(By.CLASS_NAME, \"hfpxzc\")\n",
    "\n",
    "links_list = [link.get_attribute(\"href\") for link in links]\n",
    "\n",
    "driver.close()\n",
    "print(results)"
   ]
  },
  {
   "cell_type": "code",
   "execution_count": 53,
   "metadata": {},
   "outputs": [
    {
     "name": "stdout",
     "output_type": "stream",
     "text": [
      "Number of feed elements found: 20\n"
     ]
    }
   ],
   "source": [
    "adresses = []\n",
    "ratings = []\n",
    "reviews_list = []\n",
    "links_list = [\"https://www.google.com/maps/place/Bar+en+Bistro+Raposa/@51.0021478,3.7975561,17z/data=!3m1!4b1!4m6!3m5!1s0x47c375196eb5d1cf:0xdac616be092e319a!8m2!3d51.0021478!4d3.7975561!16s%2Fg%2F11hdmy4jmr?authuser=0&hl=nl&entry=ttu\"]\n",
    "for url in links_list:\n",
    "    driver = webdriver.Edge()\n",
    "    driver.get(str(url))\n",
    "    #Wait for accept cookies button and press accept\n",
    "    accept_button = WebDriverWait(driver, 10).until(\n",
    "        EC.element_to_be_clickable((By.CSS_SELECTOR, \"#yDmH0d > c-wiz > div > div > div > div.NIoIEf > div.G4njw > div.AIC7ge > div.CxJub > div.VtwTSb > form:nth-child(2) > div > div > button\"))\n",
    "    )\n",
    "    accept_button.click()\n",
    "    time.sleep(2)\n",
    "    #Get address\n",
    "    adress = driver.find_element(By.CSS_SELECTOR, 'div.Io6YTe.fontBodyMedium.kR99db')\n",
    "    adresses.append(adress.text)\n",
    "    #Get rating\n",
    "    rating = driver.find_element(By.XPATH, '//*[@id=\"QA0Szd\"]/div/div/div[1]/div[2]/div/div[1]/div/div/div[2]/div/div[1]/div[2]/div/div[1]/div[2]/span[1]/span[1]')\n",
    "    ratings.append(rating.text)\n",
    "    #Get reviews\n",
    "    reviews_button = WebDriverWait(driver, 10).until(\n",
    "        EC.element_to_be_clickable((By.CSS_SELECTOR, '#QA0Szd > div > div > div.w6VYqd > div:nth-child(2) > div > div.e07Vkf.kA9KIf > div > div > div:nth-child(3) > div > div > button:nth-child(2)'))\n",
    "    )\n",
    "    reviews_button.click()\n",
    "    time.sleep(5)\n",
    "    for i in range(5):\n",
    "        driver.find_element(By.XPATH, '//*[@id=\"QA0Szd\"]/div/div/div[1]/div[2]/div/div[1]/div/div/div[2]').send_keys(Keys.PAGE_DOWN)\n",
    "        time.sleep(1)\n",
    "    reviews = driver.find_elements(By.CSS_SELECTOR, 'span.wiI7pd')\n",
    "    print(\"Number of feed elements found:\", len(reviews))\n",
    "    for elem in reviews:\n",
    "        reviews_list.append(elem.text)\n",
    "    driver.quit()\n",
    "\n"
   ]
  },
  {
   "cell_type": "code",
   "execution_count": 58,
   "metadata": {},
   "outputs": [],
   "source": [
    "from deep_translator import GoogleTranslator\n",
    "\n",
    "en_review_list = []\n",
    "for element in reviews_list:\n",
    "    translated = GoogleTranslator(source='auto', target='en').translate(text=element)\n",
    "    en_review_list.append(translated)"
   ]
  },
  {
   "cell_type": "code",
   "execution_count": 59,
   "metadata": {},
   "outputs": [
    {
     "name": "stdout",
     "output_type": "stream",
     "text": [
      "['What a wonderful birthday dinner for my husband and myself together with our children and granddaughter💕💕💕. Delicious food😋, delicious wine🍷, super friendly service🙂, cozy atmosphere👌. \"FANTASTIC TEAM\"💐!!! …', 'Super fun discovery! Sweet service, tasty and tasty food... highly recommended! 👌🏻 …', 'Very tasty food, friendly and cheerful service. You can taste that the food and cocktails are well thought out and the food is really fresh. Very well done!', 'Yesterday I ate a delicious dish with cod and the delicious chocolate mousse afterwards was definitely recommended. The service was smooth and friendly. It was my first introduction to this brasserie and I will definitely return. I will share my positive experience with friends and family. Great! Keep up the good work!', 'Convivial, friendly, well-cared for, delicious and everyone welcome, from young to older. Children are not very welcome in many businesses, but with them a child is a customer who is welcomed with open arms.', 'Always very tasty and well seasoned food. Both the classics such as scampi raposa and vol-au-vent and the suggestions are recommended. The vegetarian lasagna and dessert with Liège stroopwafel were great!', 'Very tasty suggestion. Guinea fowl TOP TOP TOPIE. I wish you a wonderful holiday and only nice things in 2024. Greetings Caroline', \"Cozy brasserie with very tasty cuisine and where you can have something to eat for a decent price. You won't regret it.\", 'Cozy, friendly and delicious. Just enjoying!', 'We discovered this restaurant by chance through the Ghent hotel school and we can recommend it to everyone. A warm welcome, sublime dishes and a super cool vibe. This makes us happy: a team with a passion for catering, ...', 'Wow, super tasty food! Staff was very friendly. The menu is well cared for and the price-quality ratio is top.', 'Very good restaurant. Very friendly welcome and delicious food.\\nPleasure to go there. Staff does everything with heart and soul and passion for the craft. I will come back..', \"First time, at son's request.\\nHighly recommended for everyone.\\nCome back with pleasure, even if it is 43km from My home.\", \"I went for dinner with a friend, it was super tasty, good service, but what struck me most was the service of the sambucca. This was served as it should be. I haven't come across much yet.\", 'I have wanted to go to Raposa for some time, discover your own region, and that is a top address. You see that these people do this with passion. Serving customers is a service, you just want to come back. And the chef prepares his dishes with attention to everything. I can only recommend it, they will see me here again', 'Always super tasty and perfect service', 'Very friendly and hospitable staff!\\nVery cozy seating and yet privacy.\\nEnjoyed a delicious pampering tea with snacks. Highly recommended! Top!', 'Cosy, friendly and delicious😋…', 'On recommendation, we came here for dinner.\\nNot much choice in terms of dishes. But only then do you know that everything is right. …', 'Always great!\\nVery tasty, always friendly. Absolutely recommended.']\n"
     ]
    }
   ],
   "source": [
    "print(en_review_list)"
   ]
  },
  {
   "cell_type": "code",
   "execution_count": 69,
   "metadata": {},
   "outputs": [
    {
     "name": "stderr",
     "output_type": "stream",
     "text": [
      "Some weights of the model checkpoint at cardiffnlp/twitter-roberta-base-sentiment-latest were not used when initializing RobertaForSequenceClassification: ['roberta.pooler.dense.bias', 'roberta.pooler.dense.weight']\n",
      "- This IS expected if you are initializing RobertaForSequenceClassification from the checkpoint of a model trained on another task or with another architecture (e.g. initializing a BertForSequenceClassification model from a BertForPreTraining model).\n",
      "- This IS NOT expected if you are initializing RobertaForSequenceClassification from the checkpoint of a model that you expect to be exactly identical (initializing a BertForSequenceClassification model from a BertForSequenceClassification model).\n"
     ]
    },
    {
     "name": "stdout",
     "output_type": "stream",
     "text": [
      "1) negative 0.0022\n",
      "2) neutral 0.0054\n",
      "3) positive 0.9924\n"
     ]
    }
   ],
   "source": [
    "from transformers import AutoModelForSequenceClassification\n",
    "from transformers import TFAutoModelForSequenceClassification\n",
    "from transformers import AutoTokenizer, AutoConfig\n",
    "import numpy as np\n",
    "from scipy.special import softmax\n",
    "positive = []\n",
    "neutral = []\n",
    "negative = []\n",
    "\n",
    "for element in en_review_list:\n",
    "    def preprocess(text):\n",
    "        new_text = []\n",
    "        for t in text.split(\" \"):\n",
    "            t = '@user' if t.startswith('@') and len(t) > 1 else t\n",
    "            t = 'http' if t.startswith('http') else t\n",
    "            new_text.append(t)\n",
    "        return \" \".join(new_text)\n",
    "    MODEL = f\"cardiffnlp/twitter-roberta-base-sentiment-latest\"\n",
    "    tokenizer = AutoTokenizer.from_pretrained(MODEL)\n",
    "    config = AutoConfig.from_pretrained(MODEL)\n",
    "    # PT\n",
    "    model = AutoModelForSequenceClassification.from_pretrained(MODEL)\n",
    "    #model.save_pretrained(MODEL)\n",
    "    text = element\n",
    "    text = preprocess(text)\n",
    "    encoded_input = tokenizer(text, return_tensors='pt')\n",
    "    output = model(**encoded_input)\n",
    "    scores = output[0][0].detach().numpy()\n",
    "    scores = softmax(scores)\n",
    "\n",
    "    ranking = np.argsort(scores)\n",
    "    #ranking = ranking[::-1]\n",
    "    for i in range(scores.shape[0]):\n",
    "        l = config.id2label[ranking[i]]\n",
    "        s = scores[ranking[i]]\n",
    "        print(f\"{i+1}) {l} {np.round(float(s), 4)}\")\n",
    "    positive.append(scores[ranking[2]])\n",
    "    neutral.append(scores[ranking[1]])\n",
    "    negative.append(scores[ranking[0]])"
   ]
  },
  {
   "cell_type": "code",
   "execution_count": 11,
   "metadata": {},
   "outputs": [],
   "source": [
    "import pandas as pd\n",
    "df = pd.DataFrame(\n",
    "    {'Name': results,\n",
    "     'Link': links_list,\n",
    "     'Adres': adresses\n",
    "\n",
    "    })"
   ]
  },
  {
   "cell_type": "code",
   "execution_count": 14,
   "metadata": {},
   "outputs": [],
   "source": [
    "df.head()\n",
    "df.to_csv(\"file.csv\")"
   ]
  }
 ],
 "metadata": {
  "kernelspec": {
   "display_name": "Python 3",
   "language": "python",
   "name": "python3"
  },
  "language_info": {
   "codemirror_mode": {
    "name": "ipython",
    "version": 3
   },
   "file_extension": ".py",
   "mimetype": "text/x-python",
   "name": "python",
   "nbconvert_exporter": "python",
   "pygments_lexer": "ipython3",
   "version": "3.10.5"
  }
 },
 "nbformat": 4,
 "nbformat_minor": 2
}
